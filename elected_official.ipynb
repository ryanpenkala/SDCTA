{
 "cells": [
  {
   "cell_type": "code",
   "execution_count": 7,
   "metadata": {
    "tags": []
   },
   "outputs": [],
   "source": [
    "import fitz  # PyMuPDF\n",
    "import pandas as pd\n",
    "import re\n"
   ]
  },
  {
   "cell_type": "markdown",
   "metadata": {},
   "source": [
    "## First, we need to define a function which can extract Name, Addres, Email, Telephone, and Website"
   ]
  },
  {
   "cell_type": "code",
   "execution_count": 10,
   "metadata": {
    "tags": []
   },
   "outputs": [],
   "source": [
    "def extract_information(pdf_path, start_page, end_page):\n",
    "    doc = fitz.open(pdf_path)\n",
    "    data = []\n",
    "\n",
    "    for page_num in range(start_page - 1, end_page):\n",
    "        page = doc.load_page(page_num)\n",
    "        text = page.get_text(\"text\").splitlines()\n",
    "\n",
    "        current_entry = {\"Name\": \"\", \"Address\": [], \"Email\": \"\", \"Telephone\": \"\", \"Website\": \"\"}\n",
    "        capturing_address = False\n",
    "        skip_next_line_for_address = False\n",
    "\n",
    "        for i, line in enumerate(text):\n",
    "            if skip_next_line_for_address:\n",
    "                skip_next_line_for_address = False\n",
    "                capturing_address = True\n",
    "                continue\n",
    "\n",
    "            if '[' in line and not capturing_address:\n",
    "                if current_entry[\"Name\"]:  # Save previous entry if exists\n",
    "                    current_entry[\"Address\"] = ' '.join(current_entry[\"Address\"]).strip()\n",
    "                    data.append(current_entry)\n",
    "                    current_entry = {\"Name\": \"\", \"Address\": [], \"Email\": \"\", \"Telephone\": \"\", \"Website\": \"\"}\n",
    "                \n",
    "                current_entry[\"Name\"] = line.split('[')[0].strip()\n",
    "                if ']' not in line:  # Name continues on the next line\n",
    "                    skip_next_line_for_address = True\n",
    "                else:\n",
    "                    capturing_address = True\n",
    "\n",
    "            elif capturing_address:\n",
    "                if re.search(r'\\d{5}', line):  \n",
    "                    current_entry[\"Address\"].append(line)\n",
    "                    capturing_address = False  # Stop capturing address\n",
    "                    current_entry[\"Address\"] = ' '.join(current_entry[\"Address\"]).strip()\n",
    "                else:\n",
    "                    current_entry[\"Address\"].append(line)\n",
    "\n",
    "            elif ']' not in line and not capturing_address:  # Look for contact details after address capture\n",
    "                if \"Email\" in line or \"@\" in line:  \n",
    "                    current_entry[\"Email\"] = line\n",
    "                elif \"Telephone\" in line or \"Tel\" in line or \"Phone\" in line:  \n",
    "                    current_entry[\"Telephone\"] = line\n",
    "                elif \"Website\" in line or line.startswith(\"http\"): \n",
    "                    current_entry[\"Website\"] = line\n",
    "\n",
    "        # Add the last entry if exists\n",
    "        if current_entry[\"Name\"]:\n",
    "            if isinstance(current_entry[\"Address\"], list):  \n",
    "                current_entry[\"Address\"] = ' '.join(current_entry[\"Address\"]).strip()\n",
    "            data.append(current_entry)\n",
    "\n",
    "    doc.close()\n",
    "    df = pd.DataFrame(data)\n",
    "    return df"
   ]
  },
  {
   "cell_type": "markdown",
   "metadata": {},
   "source": [
    "## extract_information() takes three arguments: the path of the pdf file, start page, and end page\n",
    "\n",
    "**We will run this function, iterating over pages 16 to 23 in the pdf, the pages containing State Senators and Assemblymembers**\n",
    "\n",
    "**Then, we will add \"Title\" column, defining the first 39 rows as State Senators and the remaining rows as Assemlymembers, as observed in the pdf**"
   ]
  },
  {
   "cell_type": "code",
   "execution_count": 30,
   "metadata": {
    "tags": []
   },
   "outputs": [
    {
     "data": {
      "text/html": [
       "<div>\n",
       "<style scoped>\n",
       "    .dataframe tbody tr th:only-of-type {\n",
       "        vertical-align: middle;\n",
       "    }\n",
       "\n",
       "    .dataframe tbody tr th {\n",
       "        vertical-align: top;\n",
       "    }\n",
       "\n",
       "    .dataframe thead th {\n",
       "        text-align: right;\n",
       "    }\n",
       "</style>\n",
       "<table border=\"1\" class=\"dataframe\">\n",
       "  <thead>\n",
       "    <tr style=\"text-align: right;\">\n",
       "      <th></th>\n",
       "      <th>Name</th>\n",
       "      <th>Address</th>\n",
       "      <th>Email</th>\n",
       "      <th>Telephone</th>\n",
       "      <th>Website</th>\n",
       "      <th>Title</th>\n",
       "    </tr>\n",
       "  </thead>\n",
       "  <tbody>\n",
       "    <tr>\n",
       "      <th>35</th>\n",
       "      <td>Umberg, Thomas J.</td>\n",
       "      <td>C a p i t o l   O f f i c e ,   1 0 2 1   O   ...</td>\n",
       "      <td>Email: senator.umberg@senate.ca.gov</td>\n",
       "      <td>Telephone: (714) 558-3785</td>\n",
       "      <td></td>\n",
       "      <td>State Senator</td>\n",
       "    </tr>\n",
       "    <tr>\n",
       "      <th>36</th>\n",
       "      <td>Wieckowski, Bob</td>\n",
       "      <td>C a p i t o l   O f f i c e ,   1 0 2 1   O   ...</td>\n",
       "      <td>Email: senator.wieckowski@senate.ca.gov</td>\n",
       "      <td>Telephone: (510) 794-3900</td>\n",
       "      <td></td>\n",
       "      <td>State Senator</td>\n",
       "    </tr>\n",
       "    <tr>\n",
       "      <th>37</th>\n",
       "      <td>Wiener, Scott D.</td>\n",
       "      <td>C a p i t o l   O f f i c e ,   1 0 2 1   O   ...</td>\n",
       "      <td>Email: senator.wiener@senate.ca.gov</td>\n",
       "      <td>Telephone: (415) 557-1300</td>\n",
       "      <td></td>\n",
       "      <td>State Senator</td>\n",
       "    </tr>\n",
       "    <tr>\n",
       "      <th>38</th>\n",
       "      <td>Wilk, Scott</td>\n",
       "      <td>Capitol Office,1021 O Street, Suite 7640, Sacr...</td>\n",
       "      <td>Email: senator.wilk@senate.ca.gov</td>\n",
       "      <td>Telephone: (760) 843-8414</td>\n",
       "      <td></td>\n",
       "      <td>State Senator</td>\n",
       "    </tr>\n",
       "    <tr>\n",
       "      <th>39</th>\n",
       "      <td>Aguiar-Curry, Cecilia M.</td>\n",
       "      <td>C a p i t o l   O f f i c e ,   R o o m   5 1 ...</td>\n",
       "      <td>Email: assemblymember.aguiar-curry@assembly.ca...</td>\n",
       "      <td>Telephone: (707)-576-0400</td>\n",
       "      <td>Website: www.assembly.ca.gov</td>\n",
       "      <td>Assemblymember</td>\n",
       "    </tr>\n",
       "  </tbody>\n",
       "</table>\n",
       "</div>"
      ],
      "text/plain": [
       "                        Name  \\\n",
       "35         Umberg, Thomas J.   \n",
       "36           Wieckowski, Bob   \n",
       "37          Wiener, Scott D.   \n",
       "38               Wilk, Scott   \n",
       "39  Aguiar-Curry, Cecilia M.   \n",
       "\n",
       "                                              Address  \\\n",
       "35  C a p i t o l   O f f i c e ,   1 0 2 1   O   ...   \n",
       "36  C a p i t o l   O f f i c e ,   1 0 2 1   O   ...   \n",
       "37  C a p i t o l   O f f i c e ,   1 0 2 1   O   ...   \n",
       "38  Capitol Office,1021 O Street, Suite 7640, Sacr...   \n",
       "39  C a p i t o l   O f f i c e ,   R o o m   5 1 ...   \n",
       "\n",
       "                                                Email  \\\n",
       "35               Email: senator.umberg@senate.ca.gov    \n",
       "36          Email: senator.wieckowski@senate.ca.gov     \n",
       "37              Email: senator.wiener@senate.ca.gov     \n",
       "38                Email: senator.wilk@senate.ca.gov     \n",
       "39  Email: assemblymember.aguiar-curry@assembly.ca...   \n",
       "\n",
       "                      Telephone                        Website           Title  \n",
       "35   Telephone: (714) 558-3785                                   State Senator  \n",
       "36   Telephone: (510) 794-3900                                   State Senator  \n",
       "37   Telephone: (415) 557-1300                                   State Senator  \n",
       "38   Telephone: (760) 843-8414                                   State Senator  \n",
       "39  Telephone: (707)-576-0400    Website: www.assembly.ca.gov   Assemblymember  "
      ]
     },
     "execution_count": 30,
     "metadata": {},
     "output_type": "execute_result"
    }
   ],
   "source": [
    "pdf_path = 'data.pdf'\n",
    "start_page = 16\n",
    "end_page = 23\n",
    "df = extract_information(pdf_path, start_page, end_page)\n",
    "df.loc[0:38, 'Title'] = 'State Senator'\n",
    "df.loc[39:118, 'Title'] = 'Assemblymember'\n",
    "df[35:40]"
   ]
  },
  {
   "cell_type": "markdown",
   "metadata": {},
   "source": [
    "## For tabulating other officials, we will need to create a new function for a new format in the document, starting on page 51"
   ]
  },
  {
   "cell_type": "code",
   "execution_count": null,
   "metadata": {},
   "outputs": [],
   "source": []
  }
 ],
 "metadata": {
  "kernelspec": {
   "display_name": "Python 3 (ipykernel)",
   "language": "python",
   "name": "python3"
  },
  "language_info": {
   "codemirror_mode": {
    "name": "ipython",
    "version": 3
   },
   "file_extension": ".py",
   "mimetype": "text/x-python",
   "name": "python",
   "nbconvert_exporter": "python",
   "pygments_lexer": "ipython3",
   "version": "3.11.5"
  }
 },
 "nbformat": 4,
 "nbformat_minor": 4
}
